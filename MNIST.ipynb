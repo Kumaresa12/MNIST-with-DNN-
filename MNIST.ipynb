{
  "nbformat": 4,
  "nbformat_minor": 0,
  "metadata": {
    "colab": {
      "provenance": []
    },
    "kernelspec": {
      "name": "python3",
      "display_name": "Python 3"
    },
    "language_info": {
      "name": "python"
    }
  },
  "cells": [
    {
      "cell_type": "code",
      "source": [
        "import numpy as np                   \n",
        "import matplotlib.pyplot as plt      \n",
        "import random            \n",
        "import tensorflow as tf            \n",
        "import tensorflow_datasets as tfds\n",
        "from keras.datasets import mnist     \n",
        "from keras.models import Sequential  \n",
        "import matplotlib.image as mpimg"
      ],
      "metadata": {
        "id": "Q31tOfB3tuDT"
      },
      "execution_count": 128,
      "outputs": []
    },
    {
      "cell_type": "code",
      "source": [
        "mnist_dataset, mnist_info = tfds.load(name='mnist', with_info=True, as_supervised=True)"
      ],
      "metadata": {
        "id": "D-0IuAtDzT-y"
      },
      "execution_count": 45,
      "outputs": []
    },
    {
      "cell_type": "code",
      "source": [
        "mnist_train, mnist_test = mnist_dataset['train'], mnist_dataset['test']"
      ],
      "metadata": {
        "id": "eyP-KRsuzaph"
      },
      "execution_count": 46,
      "outputs": []
    },
    {
      "cell_type": "code",
      "source": [
        "num_validation_samples = 0.1 * mnist_info.splits['train'].num_examples"
      ],
      "metadata": {
        "id": "vnS8q7POzdMK"
      },
      "execution_count": 47,
      "outputs": []
    },
    {
      "cell_type": "code",
      "source": [
        "num_validation_samples=tf.cast(num_validation_samples,tf.int64)"
      ],
      "metadata": {
        "id": "rKzDg18ez7EB"
      },
      "execution_count": 49,
      "outputs": []
    },
    {
      "cell_type": "code",
      "source": [
        "num_test_samples=mnist_info.splits['test'].num_examples"
      ],
      "metadata": {
        "id": "colEuAKq0J3I"
      },
      "execution_count": 52,
      "outputs": []
    },
    {
      "cell_type": "code",
      "source": [
        "num_validation_samples=tf.cast(num_test_samples,tf.int64)"
      ],
      "metadata": {
        "id": "usa6Q8eJziXD"
      },
      "execution_count": 53,
      "outputs": []
    },
    {
      "cell_type": "code",
      "source": [
        "def scale(image,label):\n",
        "  image=tf.cast(image,tf.float32)\n",
        "  image /= 255.\n",
        "  return image,label"
      ],
      "metadata": {
        "id": "eHiLcrIi0bsR"
      },
      "execution_count": 57,
      "outputs": []
    },
    {
      "cell_type": "code",
      "source": [
        "scaled_train_and_validation_data=mnist_train.map(scale)\n",
        "test_data=mnist_test.map(scale)"
      ],
      "metadata": {
        "id": "ExSGSAHT066L"
      },
      "execution_count": 58,
      "outputs": []
    },
    {
      "cell_type": "code",
      "source": [
        "BUFFER_SIZE=1000"
      ],
      "metadata": {
        "id": "_f6a0KY51bmq"
      },
      "execution_count": 59,
      "outputs": []
    },
    {
      "cell_type": "code",
      "source": [
        "shuffled_train_and_validation_data=scaled_train_and_validation_data.shuffle(BUFFER_SIZE)"
      ],
      "metadata": {
        "id": "QVWpMYKh18eS"
      },
      "execution_count": 60,
      "outputs": []
    },
    {
      "cell_type": "code",
      "source": [
        "validation_data=shuffled_train_and_validation_data.take(num_validation_samples)"
      ],
      "metadata": {
        "id": "r6wIKOst2IGg"
      },
      "execution_count": 61,
      "outputs": []
    },
    {
      "cell_type": "code",
      "source": [
        "train_data=shuffled_train_and_validation_data.skip(num_validation_samples)"
      ],
      "metadata": {
        "id": "ZLqpJxMR3c7I"
      },
      "execution_count": 62,
      "outputs": []
    },
    {
      "cell_type": "code",
      "source": [
        "BATCH_SIZE=100"
      ],
      "metadata": {
        "id": "ZN7cykh94GEj"
      },
      "execution_count": 63,
      "outputs": []
    },
    {
      "cell_type": "code",
      "source": [
        "train_data=train_data.batch(BATCH_SIZE)"
      ],
      "metadata": {
        "id": "Os9ApyCG4KKo"
      },
      "execution_count": 64,
      "outputs": []
    },
    {
      "cell_type": "code",
      "source": [
        "validation_data=validation_data.batch(num_validation_samples)"
      ],
      "metadata": {
        "id": "M-bC6PYV4SLo"
      },
      "execution_count": 65,
      "outputs": []
    },
    {
      "cell_type": "code",
      "source": [
        "test_data=test_data.batch(num_test_samples)"
      ],
      "metadata": {
        "id": "CWQPLoFv4d2g"
      },
      "execution_count": 66,
      "outputs": []
    },
    {
      "cell_type": "code",
      "source": [
        "validation_inputs,validation_targets=next(iter(validation_data))"
      ],
      "metadata": {
        "id": "6nCwOXQK4kYp"
      },
      "execution_count": 67,
      "outputs": []
    },
    {
      "cell_type": "code",
      "source": [
        "input_size=784\n",
        "output_size=10\n",
        "hidden_layer_size=60"
      ],
      "metadata": {
        "id": "C87V_P1_4vff"
      },
      "execution_count": 107,
      "outputs": []
    },
    {
      "cell_type": "code",
      "source": [
        "model=tf.keras.Sequential([\n",
        "    tf.keras.layers.Flatten(input_shape=(28,28,1)),\n",
        "    tf.keras.layers.Dense(hidden_layer_size,activation='relu'),\n",
        "    tf.keras.layers.Dense(hidden_layer_size,activation='relu'),\n",
        "    tf.keras.layers.Dense(output_size,activation='softmax')\n",
        "])"
      ],
      "metadata": {
        "id": "OcNDyx5x5fi3"
      },
      "execution_count": 108,
      "outputs": []
    },
    {
      "cell_type": "code",
      "source": [
        "model.compile(optimizer='adam',loss='sparse_categorical_crossentropy',metrics=['accuracy'])"
      ],
      "metadata": {
        "id": "YdOKVbW16uun"
      },
      "execution_count": 109,
      "outputs": []
    },
    {
      "cell_type": "code",
      "source": [
        "NUM_EPOCHS=5"
      ],
      "metadata": {
        "id": "LdqKmKM67ERp"
      },
      "execution_count": 110,
      "outputs": []
    },
    {
      "cell_type": "code",
      "source": [
        "model.fit(train_data,epochs=NUM_EPOCHS,validation_data=(validation_inputs,validation_targets),verbose=2)"
      ],
      "metadata": {
        "colab": {
          "base_uri": "https://localhost:8080/"
        },
        "id": "n3F99B2e7Hov",
        "outputId": "5397e91c-408c-4a32-c6f5-4fa6a379032d"
      },
      "execution_count": 111,
      "outputs": [
        {
          "output_type": "stream",
          "name": "stdout",
          "text": [
            "Epoch 1/5\n",
            "500/500 - 6s - loss: 0.4257 - accuracy: 0.8801 - val_loss: 0.2154 - val_accuracy: 0.9373 - 6s/epoch - 12ms/step\n",
            "Epoch 2/5\n",
            "500/500 - 5s - loss: 0.1818 - accuracy: 0.9473 - val_loss: 0.1530 - val_accuracy: 0.9544 - 5s/epoch - 11ms/step\n",
            "Epoch 3/5\n",
            "500/500 - 5s - loss: 0.1340 - accuracy: 0.9603 - val_loss: 0.1326 - val_accuracy: 0.9589 - 5s/epoch - 11ms/step\n",
            "Epoch 4/5\n",
            "500/500 - 6s - loss: 0.1061 - accuracy: 0.9690 - val_loss: 0.1294 - val_accuracy: 0.9609 - 6s/epoch - 11ms/step\n",
            "Epoch 5/5\n",
            "500/500 - 6s - loss: 0.0870 - accuracy: 0.9743 - val_loss: 0.1125 - val_accuracy: 0.9669 - 6s/epoch - 11ms/step\n"
          ]
        },
        {
          "output_type": "execute_result",
          "data": {
            "text/plain": [
              "<keras.callbacks.History at 0x7f24dbf16b80>"
            ]
          },
          "metadata": {},
          "execution_count": 111
        }
      ]
    },
    {
      "cell_type": "code",
      "source": [
        "test_loss,test_accuracy=model.evaluate(test_data)"
      ],
      "metadata": {
        "colab": {
          "base_uri": "https://localhost:8080/"
        },
        "id": "3yEcVjZn7kkX",
        "outputId": "750d1c18-4260-4e6f-e502-6771d4280e3c"
      },
      "execution_count": 112,
      "outputs": [
        {
          "output_type": "stream",
          "name": "stdout",
          "text": [
            "1/1 [==============================] - 0s 416ms/step - loss: 0.1092 - accuracy: 0.9667\n"
          ]
        }
      ]
    }
  ]
}